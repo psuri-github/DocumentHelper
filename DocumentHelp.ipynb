{
 "cells": [
  {
   "cell_type": "code",
   "execution_count": null,
   "id": "f359cfd3-ecbe-4e76-83e1-24925a03268f",
   "metadata": {
    "scrolled": true
   },
   "outputs": [
    {
     "name": "stderr",
     "output_type": "stream",
     "text": [
      "[nltk_data] Downloading package punkt to /Users/psuri/nltk_data...\n",
      "[nltk_data]   Package punkt is already up-to-date!\n",
      "[nltk_data] Downloading package punkt_tab to /Users/psuri/nltk_data...\n",
      "[nltk_data]   Package punkt_tab is already up-to-date!\n"
     ]
    },
    {
     "name": "stdout",
     "output_type": "stream",
     "text": [
      "['Introduction — NVIDIA Generative AI Workflow Skip to main content Back to top Ctrl + K NVIDIA Generative AI Workflow Documentation Home Search Ctrl + K Search Ctrl + K NVIDIA Generative AI Workflow Documentation Home Table of Contents NVIDIA AI Workflows Introduction AI Chatbot with Retrieval Augmented Generation Technical Brief Notices Notices Introduction Is this page helpful?', 'Introduction # Modern enterprise applications are becoming more cloud-native and based on a microservices architecture.', 'Microservices, by definition, consist of a collection of small independent services that communicate over well-defined APIs.', 'AI applications, in most instances, adhere well to this same architectural design, as there are typically many different components that all need to work together in both training and inferencing workflows.', 'To deploy an application in a production environment, the application must also meet the following criteria: Reliability Security Performance Scalability Interoperability What are NVIDIA AI Workflows?', '# NVIDIA AI Workflows are intended to provide reference solutions of how to leverage NVIDIA frameworks to build AI solutions for solving common use cases.', 'These workflows guide fine-tuning and AI model creation to build upon NVIDIA frameworks.', 'The pipelines to create applications are highlighted, as well as opinions on how to deploy customized applications and integrate them with various components typically found in enterprise environments, such as components for orchestration and management, storage, security, networking, etc.', 'By leveraging an AI workflow for your specific use case, you can streamline the development of AI solutions following the example provided by the workflow to: Reduce development time, at a lower cost Improve accuracy and performance Gain confidence in the outcome, by leveraging NVIDIA AI expertise Using the example workflow, you know exactly what AI framework to use, how to bring data into the pipeline, and what to do with the data output.', 'AI Workflows are designed as microservices, which means they can be deployed on Kubernetes alone or with other microservices to create a production-ready application for seamless scaling.', 'The workflow cloud deployable package can be used across different cloud instances and is automatable and interoperable.', 'NVIDIA AI Workflows are available on NVIDIA NGC for NVIDIA AI Enterprise software customers.', 'previous NVIDIA AI Workflows next Technical Brief On this page What are NVIDIA AI Workflows?', 'Privacy Policy | Manage My Privacy | Do Not Sell or Share My Data | Terms of Service | Accessibility | Corporate Policies | Product Security | Contact Copyright Â© 2021-2025, NVIDIA Corporation.', 'Last updated on May 15, 2025.']\n",
      "--------------------------------- xxxx ----------------------------------\n",
      "Creating embeddings\n"
     ]
    }
   ],
   "source": [
    "from sentence_transformers import SentenceTransformer\n",
    "import requests\n",
    "from bs4 import BeautifulSoup\n",
    "import faiss\n",
    "import numpy as np\n",
    "import nltk\n",
    "from nltk.tokenize import sent_tokenize\n",
    "\n",
    "# Step 1: URL of the page you want to read\n",
    "url = \"https://docs.nvidia.com/ai-enterprise/workflow/generative-ai/latest/introduction.html\"\n",
    "\n",
    "# Step 2: Fetch the HTML content\n",
    "response = requests.get(url)\n",
    "# Check for success\n",
    "if response.status_code == 200:\n",
    "    html = response.text\n",
    "\n",
    "    # Step 3: Parse with BeautifulSoup\n",
    "    soup = BeautifulSoup(html, 'html.parser')\n",
    "\n",
    "    # Step 4: Extract readable text (strip scripts, styles, etc.)\n",
    "    text = soup.get_text(separator=' ', strip=True)\n",
    "\n",
    "else:\n",
    "    print(f\"Failed to fetch page: {response.status_code}\")\n",
    "\n",
    "\n",
    "nltk.download('punkt')\n",
    "nltk.download('punkt_tab')\n",
    "\n",
    "\n",
    "sentences = sent_tokenize(text)\n",
    "print(sentences)\n",
    "print(\"--------------------------------- xxxx ----------------------------------\")\n",
    "model = SentenceTransformer(\"all-MiniLM-L6-v2\")\n",
    "print(\"Creating embeddings\")\n",
    "embeddings = model.encode(sentences)\n",
    "print(\"DONE Creating embeddings\")\n",
    "# Build FAISS index\n",
    "index = faiss.IndexFlatL2(384)  # 384 = vector dimension of MiniLM\n",
    "index.add(np.array(embeddings))\n",
    "print(\"Created Index\")\n",
    "query = \"What is this Document about?\"\n",
    "if query.lower() == \"bye\":\n",
    "    print(\"Good Bye! Thanks for using my documentation Analyzer. See you soon\")\n",
    "else :\n",
    "    print(\"Initiating search\")\n",
    "    D, I = index.search(np.array(embeddings), k=1)\n",
    "    print(\"Most similar sentence:\", sentences[I[0][0]])\n",
    "'''\n",
    "while True:\n",
    "    query = input(\"ASk a question ?: \")\n",
    "    print(query)\n",
    "    if query.equals(\"bye\"):\n",
    "        print(\"Good Bye! Thanks for using my documentation Analyzer. See you soon\")\n",
    "    else :\n",
    "        print(\"Initiating search\")\n",
    "        D, I = index.search(np.array(embeddings), k=1)\n",
    "        print(\"Most similar sentence:\", sentences[I[0][0]])\n",
    "'''                  "
   ]
  },
  {
   "cell_type": "code",
   "execution_count": null,
   "id": "17f3c7b1-e4ae-4b1e-9509-5485d53b0781",
   "metadata": {},
   "outputs": [],
   "source": []
  }
 ],
 "metadata": {
  "kernelspec": {
   "display_name": "Python (ai-playground)",
   "language": "python",
   "name": "ai-playground"
  },
  "language_info": {
   "codemirror_mode": {
    "name": "ipython",
    "version": 3
   },
   "file_extension": ".py",
   "mimetype": "text/x-python",
   "name": "python",
   "nbconvert_exporter": "python",
   "pygments_lexer": "ipython3",
   "version": "3.10.16"
  }
 },
 "nbformat": 4,
 "nbformat_minor": 5
}
